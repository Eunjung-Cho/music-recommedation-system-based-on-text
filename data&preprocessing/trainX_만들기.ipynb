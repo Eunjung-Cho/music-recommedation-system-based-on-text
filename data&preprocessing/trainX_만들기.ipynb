{
  "nbformat": 4,
  "nbformat_minor": 0,
  "metadata": {
    "kernelspec": {
      "display_name": "Python 3",
      "language": "python",
      "name": "python3"
    },
    "language_info": {
      "codemirror_mode": {
        "name": "ipython",
        "version": 3
      },
      "file_extension": ".py",
      "mimetype": "text/x-python",
      "name": "python",
      "nbconvert_exporter": "python",
      "pygments_lexer": "ipython3",
      "version": "3.7.6"
    },
    "colab": {
      "name": "trainX_만들기.ipynb",
      "provenance": [],
      "include_colab_link": true
    }
  },
  "cells": [
    {
      "cell_type": "markdown",
      "metadata": {
        "id": "view-in-github",
        "colab_type": "text"
      },
      "source": [
        "<a href=\"https://colab.research.google.com/github/hijyun/music-recommedation-system-based-on-text/blob/main/data%26preprocessing/trainX_%EB%A7%8C%EB%93%A4%EA%B8%B0.ipynb\" target=\"_parent\"><img src=\"https://colab.research.google.com/assets/colab-badge.svg\" alt=\"Open In Colab\"/></a>"
      ]
    },
    {
      "cell_type": "markdown",
      "metadata": {
        "id": "7phSGWlKA3S6"
      },
      "source": [
        "# 데이터 읽기"
      ]
    },
    {
      "cell_type": "code",
      "metadata": {
        "id": "wBT6kLbyA3TC"
      },
      "source": [
        "import pandas as pd\n",
        "import nltk\n",
        "from nltk.stem.porter import PorterStemmer\n",
        "from nltk.tokenize import RegexpTokenizer\n",
        "from nltk.corpus import stopwords \n",
        "import re\n",
        "import numpy as np"
      ],
      "execution_count": null,
      "outputs": []
    },
    {
      "cell_type": "code",
      "metadata": {
        "id": "DkPLlY9pA3TD"
      },
      "source": [
        "df_original = pd.read_csv('data/modern_romeo_and_juliet.csv',encoding='cp949')"
      ],
      "execution_count": null,
      "outputs": []
    },
    {
      "cell_type": "code",
      "metadata": {
        "id": "5CBuT9dmA3TE",
        "outputId": "1b7874ab-5bce-4afe-dd1c-5e92eb04e89b"
      },
      "source": [
        "df_original.head()"
      ],
      "execution_count": null,
      "outputs": [
        {
          "output_type": "execute_result",
          "data": {
            "text/html": [
              "<div>\n",
              "<style scoped>\n",
              "    .dataframe tbody tr th:only-of-type {\n",
              "        vertical-align: middle;\n",
              "    }\n",
              "\n",
              "    .dataframe tbody tr th {\n",
              "        vertical-align: top;\n",
              "    }\n",
              "\n",
              "    .dataframe thead th {\n",
              "        text-align: right;\n",
              "    }\n",
              "</style>\n",
              "<table border=\"1\" class=\"dataframe\">\n",
              "  <thead>\n",
              "    <tr style=\"text-align: right;\">\n",
              "      <th></th>\n",
              "      <th>actscene</th>\n",
              "      <th>contents</th>\n",
              "    </tr>\n",
              "  </thead>\n",
              "  <tbody>\n",
              "    <tr>\n",
              "      <th>0</th>\n",
              "      <td>Act 1, Scene 1</td>\n",
              "      <td>It was hot. Sizzling. Even at eight o’clock.\\n...</td>\n",
              "    </tr>\n",
              "    <tr>\n",
              "      <th>1</th>\n",
              "      <td>Act 1, Scene 2</td>\n",
              "      <td>‘No,’ Capulet told his visitor. ‘It’s six of o...</td>\n",
              "    </tr>\n",
              "    <tr>\n",
              "      <th>2</th>\n",
              "      <td>Act 1, Scene 3</td>\n",
              "      <td>Lady Capulet came into the sitting room where ...</td>\n",
              "    </tr>\n",
              "    <tr>\n",
              "      <th>3</th>\n",
              "      <td>Act 1, Scene 4</td>\n",
              "      <td>‘Are we going to make some excuse for coming w...</td>\n",
              "    </tr>\n",
              "    <tr>\n",
              "      <th>4</th>\n",
              "      <td>Act 2, Scene 1</td>\n",
              "      <td>Romeo couldn’t bear to leave the house where h...</td>\n",
              "    </tr>\n",
              "  </tbody>\n",
              "</table>\n",
              "</div>"
            ],
            "text/plain": [
              "         actscene                                           contents\n",
              "0  Act 1, Scene 1  It was hot. Sizzling. Even at eight o’clock.\\n...\n",
              "1  Act 1, Scene 2  ‘No,’ Capulet told his visitor. ‘It’s six of o...\n",
              "2  Act 1, Scene 3  Lady Capulet came into the sitting room where ...\n",
              "3  Act 1, Scene 4  ‘Are we going to make some excuse for coming w...\n",
              "4  Act 2, Scene 1  Romeo couldn’t bear to leave the house where h..."
            ]
          },
          "metadata": {
            "tags": []
          },
          "execution_count": 3
        }
      ]
    },
    {
      "cell_type": "code",
      "metadata": {
        "id": "lyGLJmJ0A3TF",
        "outputId": "a2d7541a-0c69-4c66-8c92-2326759e41ff"
      },
      "source": [
        "df_original.tail()"
      ],
      "execution_count": null,
      "outputs": [
        {
          "output_type": "execute_result",
          "data": {
            "text/html": [
              "<div>\n",
              "<style scoped>\n",
              "    .dataframe tbody tr th:only-of-type {\n",
              "        vertical-align: middle;\n",
              "    }\n",
              "\n",
              "    .dataframe tbody tr th {\n",
              "        vertical-align: top;\n",
              "    }\n",
              "\n",
              "    .dataframe thead th {\n",
              "        text-align: right;\n",
              "    }\n",
              "</style>\n",
              "<table border=\"1\" class=\"dataframe\">\n",
              "  <thead>\n",
              "    <tr style=\"text-align: right;\">\n",
              "      <th></th>\n",
              "      <th>actscene</th>\n",
              "      <th>contents</th>\n",
              "    </tr>\n",
              "  </thead>\n",
              "  <tbody>\n",
              "    <tr>\n",
              "      <th>17</th>\n",
              "      <td>Act 4, Scene 3</td>\n",
              "      <td>Juliet didn’t argue with the Nurse’s choice of...</td>\n",
              "    </tr>\n",
              "    <tr>\n",
              "      <th>18</th>\n",
              "      <td>Act 4, Scene 5</td>\n",
              "      <td>‘Mistress. Wake up… Juliet?’. The Nurse stood ...</td>\n",
              "    </tr>\n",
              "    <tr>\n",
              "      <th>19</th>\n",
              "      <td>Act 5, Scene 1</td>\n",
              "      <td>Romeo had been in a good mood all morning. He’...</td>\n",
              "    </tr>\n",
              "    <tr>\n",
              "      <th>20</th>\n",
              "      <td>Act 5, Scene 2</td>\n",
              "      <td>Friar Lawrence was humming. It was all working...</td>\n",
              "    </tr>\n",
              "    <tr>\n",
              "      <th>21</th>\n",
              "      <td>Act 5, Scene 3</td>\n",
              "      <td>Paris approached the churchyard, his page walk...</td>\n",
              "    </tr>\n",
              "  </tbody>\n",
              "</table>\n",
              "</div>"
            ],
            "text/plain": [
              "          actscene                                           contents\n",
              "17  Act 4, Scene 3  Juliet didn’t argue with the Nurse’s choice of...\n",
              "18  Act 4, Scene 5  ‘Mistress. Wake up… Juliet?’. The Nurse stood ...\n",
              "19  Act 5, Scene 1  Romeo had been in a good mood all morning. He’...\n",
              "20  Act 5, Scene 2  Friar Lawrence was humming. It was all working...\n",
              "21  Act 5, Scene 3  Paris approached the churchyard, his page walk..."
            ]
          },
          "metadata": {
            "tags": []
          },
          "execution_count": 4
        }
      ]
    },
    {
      "cell_type": "code",
      "metadata": {
        "id": "Dr4eJ-HQA3TG"
      },
      "source": [
        "df_original['act'] = np.arange(22)\n",
        "df_original['scene'] = np.arange(22)\n",
        "for i in range(len(df_original)):\n",
        "    df_original.iloc[i,2] = df_original.iloc[i,0][:5]\n",
        "    df_original.iloc[i,3] = df_original.iloc[i,0][7:]"
      ],
      "execution_count": null,
      "outputs": []
    },
    {
      "cell_type": "code",
      "metadata": {
        "id": "pQQ7eu9QA3TG"
      },
      "source": [
        "df = df_original.drop(['actscene'],axis=1)"
      ],
      "execution_count": null,
      "outputs": []
    },
    {
      "cell_type": "code",
      "metadata": {
        "id": "bwZ1aaf5A3TH",
        "outputId": "15c6de1c-8c1c-431d-f98e-b5ebaf4c45f4"
      },
      "source": [
        "df_original.iloc[0,1][:1000]"
      ],
      "execution_count": null,
      "outputs": [
        {
          "output_type": "execute_result",
          "data": {
            "text/plain": [
              "'It was hot. Sizzling. Even at eight o’clock.\\n\\nVerona was coming to life: people poured out of the houses and filled the streets while market traders set up their stalls in the grand piazza. It was a good patch, an excellent place to catch the business of those who lived and worked in the rich houses that lined Verona’s main square.\\n\\nThe Capulet mansion was one of the biggest ? filled with servants and humming with activity. It was an hour till breakfast and while the cooks sweated over the fires in the kitchen, conjuring mouthwatering aromas of baked breads and hams, the servingmen killed time as best they could.\\n\\nTwo of them ? hot, bored and restless ? stepped out into the bustle of the piazza and swaggered about among the bright colours, the animal smells and the din of traders’ voices, hoping to find some action.\\n\\n‘I can tell you, Gregory,’ said Sampson, ‘I’m ready for them. Just watch me. Let a Montague so much as put a foot in the piazza and you’ll see how quick I am.’\\n\\n‘Sure.’ Gr'"
            ]
          },
          "metadata": {
            "tags": []
          },
          "execution_count": 7
        }
      ]
    },
    {
      "cell_type": "code",
      "metadata": {
        "id": "IAAx4spYA3TH",
        "outputId": "b053d38a-27e5-459d-8ed6-1fe4d59c3245"
      },
      "source": [
        "df.head()"
      ],
      "execution_count": null,
      "outputs": [
        {
          "output_type": "execute_result",
          "data": {
            "text/html": [
              "<div>\n",
              "<style scoped>\n",
              "    .dataframe tbody tr th:only-of-type {\n",
              "        vertical-align: middle;\n",
              "    }\n",
              "\n",
              "    .dataframe tbody tr th {\n",
              "        vertical-align: top;\n",
              "    }\n",
              "\n",
              "    .dataframe thead th {\n",
              "        text-align: right;\n",
              "    }\n",
              "</style>\n",
              "<table border=\"1\" class=\"dataframe\">\n",
              "  <thead>\n",
              "    <tr style=\"text-align: right;\">\n",
              "      <th></th>\n",
              "      <th>contents</th>\n",
              "      <th>act</th>\n",
              "      <th>scene</th>\n",
              "    </tr>\n",
              "  </thead>\n",
              "  <tbody>\n",
              "    <tr>\n",
              "      <th>0</th>\n",
              "      <td>It was hot. Sizzling. Even at eight o’clock.\\n...</td>\n",
              "      <td>Act 1</td>\n",
              "      <td>Scene 1</td>\n",
              "    </tr>\n",
              "    <tr>\n",
              "      <th>1</th>\n",
              "      <td>‘No,’ Capulet told his visitor. ‘It’s six of o...</td>\n",
              "      <td>Act 1</td>\n",
              "      <td>Scene 2</td>\n",
              "    </tr>\n",
              "    <tr>\n",
              "      <th>2</th>\n",
              "      <td>Lady Capulet came into the sitting room where ...</td>\n",
              "      <td>Act 1</td>\n",
              "      <td>Scene 3</td>\n",
              "    </tr>\n",
              "    <tr>\n",
              "      <th>3</th>\n",
              "      <td>‘Are we going to make some excuse for coming w...</td>\n",
              "      <td>Act 1</td>\n",
              "      <td>Scene 4</td>\n",
              "    </tr>\n",
              "    <tr>\n",
              "      <th>4</th>\n",
              "      <td>Romeo couldn’t bear to leave the house where h...</td>\n",
              "      <td>Act 2</td>\n",
              "      <td>Scene 1</td>\n",
              "    </tr>\n",
              "  </tbody>\n",
              "</table>\n",
              "</div>"
            ],
            "text/plain": [
              "                                            contents    act    scene\n",
              "0  It was hot. Sizzling. Even at eight o’clock.\\n...  Act 1  Scene 1\n",
              "1  ‘No,’ Capulet told his visitor. ‘It’s six of o...  Act 1  Scene 2\n",
              "2  Lady Capulet came into the sitting room where ...  Act 1  Scene 3\n",
              "3  ‘Are we going to make some excuse for coming w...  Act 1  Scene 4\n",
              "4  Romeo couldn’t bear to leave the house where h...  Act 2  Scene 1"
            ]
          },
          "metadata": {
            "tags": []
          },
          "execution_count": 8
        }
      ]
    },
    {
      "cell_type": "code",
      "metadata": {
        "id": "o2Bm29YLA3TI"
      },
      "source": [
        "df.to_excel('act_scene_split_romeo&juliet.xlsx')"
      ],
      "execution_count": null,
      "outputs": []
    },
    {
      "cell_type": "code",
      "metadata": {
        "id": "8daP0ZOvA3TI",
        "outputId": "aede5005-e83b-480a-c51e-5c34b9c42425"
      },
      "source": [
        "df.shape"
      ],
      "execution_count": null,
      "outputs": [
        {
          "output_type": "execute_result",
          "data": {
            "text/plain": [
              "(22, 3)"
            ]
          },
          "metadata": {
            "tags": []
          },
          "execution_count": 10
        }
      ]
    },
    {
      "cell_type": "code",
      "metadata": {
        "id": "IWBwR5WUA3TI",
        "outputId": "1eeeff06-a9fe-476c-b2ce-746cef799829"
      },
      "source": [
        "df.iloc[0,0][:1000]"
      ],
      "execution_count": null,
      "outputs": [
        {
          "output_type": "execute_result",
          "data": {
            "text/plain": [
              "'It was hot. Sizzling. Even at eight o’clock.\\n\\nVerona was coming to life: people poured out of the houses and filled the streets while market traders set up their stalls in the grand piazza. It was a good patch, an excellent place to catch the business of those who lived and worked in the rich houses that lined Verona’s main square.\\n\\nThe Capulet mansion was one of the biggest ? filled with servants and humming with activity. It was an hour till breakfast and while the cooks sweated over the fires in the kitchen, conjuring mouthwatering aromas of baked breads and hams, the servingmen killed time as best they could.\\n\\nTwo of them ? hot, bored and restless ? stepped out into the bustle of the piazza and swaggered about among the bright colours, the animal smells and the din of traders’ voices, hoping to find some action.\\n\\n‘I can tell you, Gregory,’ said Sampson, ‘I’m ready for them. Just watch me. Let a Montague so much as put a foot in the piazza and you’ll see how quick I am.’\\n\\n‘Sure.’ Gr'"
            ]
          },
          "metadata": {
            "tags": []
          },
          "execution_count": 11
        }
      ]
    },
    {
      "cell_type": "markdown",
      "metadata": {
        "id": "pFF_wDuNA3TJ"
      },
      "source": [
        "# 전처리"
      ]
    },
    {
      "cell_type": "code",
      "metadata": {
        "id": "yuWqewIcA3TJ"
      },
      "source": [
        "def cleansing(text):\n",
        "    pattern = '[0-9]' # 숫자제거\n",
        "    text = re.sub(pattern=pattern, repl='', string=text)\n",
        "    pattern = '\\n' \n",
        "    text = re.sub(pattern=pattern, repl=' ', string=text)\n",
        "    pattern = '[^\\w\\s]' # 특수기호제거\n",
        "    #pattern = '[-=+,#/\\?:^$.@*\\\"※~&%ㆍ!』\\\\‘|\\(\\)\\[\\]\\<\\>`\\'…》]'\n",
        "    text = re.sub(pattern=pattern, repl='', string=text)\n",
        "    return text   "
      ],
      "execution_count": null,
      "outputs": []
    },
    {
      "cell_type": "code",
      "metadata": {
        "id": "8E19IUsrA3TK"
      },
      "source": [
        "for i in range(len(df)):\n",
        "    df.iloc[i,0] = cleansing(df.iloc[i,0]) # 모든 열에 대해 cleansing함수 적용\n",
        "    df.iloc[i,0] = df.iloc[i,0].lower()   # 소문자로 바꾸기"
      ],
      "execution_count": null,
      "outputs": []
    },
    {
      "cell_type": "code",
      "metadata": {
        "id": "OY2p0R2uA3TK",
        "outputId": "a0760940-2d01-49c5-d4e4-79d52dae4801"
      },
      "source": [
        "df.iloc[0,0][:1000] # 전처리 후 데이터 확인"
      ],
      "execution_count": null,
      "outputs": [
        {
          "output_type": "execute_result",
          "data": {
            "text/plain": [
              "'it was hot sizzling even at eight oclock  verona was coming to life people poured out of the houses and filled the streets while market traders set up their stalls in the grand piazza it was a good patch an excellent place to catch the business of those who lived and worked in the rich houses that lined veronas main square  the capulet mansion was one of the biggest  filled with servants and humming with activity it was an hour till breakfast and while the cooks sweated over the fires in the kitchen conjuring mouthwatering aromas of baked breads and hams the servingmen killed time as best they could  two of them  hot bored and restless  stepped out into the bustle of the piazza and swaggered about among the bright colours the animal smells and the din of traders voices hoping to find some action  i can tell you gregory said sampson im ready for them just watch me let a montague so much as put a foot in the piazza and youll see how quick i am  sure gregory knew that his friends boasts j'"
            ]
          },
          "metadata": {
            "tags": []
          },
          "execution_count": 14
        }
      ]
    },
    {
      "cell_type": "markdown",
      "metadata": {
        "id": "bLYhxD7sA3TK"
      },
      "source": [
        "# 데이터 100개로 분할"
      ]
    },
    {
      "cell_type": "code",
      "metadata": {
        "id": "8BGbS0QCA3TL",
        "outputId": "a160be8d-09b3-4200-d4c8-c36accb6c68d"
      },
      "source": [
        "df[['act','scene']].value_counts()"
      ],
      "execution_count": null,
      "outputs": [
        {
          "output_type": "execute_result",
          "data": {
            "text/plain": [
              "act    scene  \n",
              "Act 5  Scene 3    1\n",
              "       Scene 2    1\n",
              "Act 1  Scene 2    1\n",
              "       Scene 3    1\n",
              "       Scene 4    1\n",
              "Act 2  Scene 1    1\n",
              "       Scene 2    1\n",
              "       Scene 3    1\n",
              "       Scene 4    1\n",
              "       Scene 5    1\n",
              "       Scene 6    1\n",
              "Act 3  Scene 1    1\n",
              "       Scene 2    1\n",
              "       Scene 3    1\n",
              "       Scene 4    1\n",
              "       Scene 5    1\n",
              "Act 4  Scene 1    1\n",
              "       Scene 2    1\n",
              "       Scene 3    1\n",
              "       Scene 5    1\n",
              "Act 5  Scene 1    1\n",
              "Act 1  Scene 1    1\n",
              "dtype: int64"
            ]
          },
          "metadata": {
            "tags": []
          },
          "execution_count": 15
        }
      ]
    },
    {
      "cell_type": "markdown",
      "metadata": {
        "id": "iM8rdaPlA3TL"
      },
      "source": [
        "## 글자수 세기"
      ]
    },
    {
      "cell_type": "code",
      "metadata": {
        "id": "9TCHilz8A3TL",
        "outputId": "bdd54daf-821d-4562-9ad0-918a5744ccbc"
      },
      "source": [
        "df"
      ],
      "execution_count": null,
      "outputs": [
        {
          "output_type": "execute_result",
          "data": {
            "text/html": [
              "<div>\n",
              "<style scoped>\n",
              "    .dataframe tbody tr th:only-of-type {\n",
              "        vertical-align: middle;\n",
              "    }\n",
              "\n",
              "    .dataframe tbody tr th {\n",
              "        vertical-align: top;\n",
              "    }\n",
              "\n",
              "    .dataframe thead th {\n",
              "        text-align: right;\n",
              "    }\n",
              "</style>\n",
              "<table border=\"1\" class=\"dataframe\">\n",
              "  <thead>\n",
              "    <tr style=\"text-align: right;\">\n",
              "      <th></th>\n",
              "      <th>contents</th>\n",
              "      <th>act</th>\n",
              "      <th>scene</th>\n",
              "    </tr>\n",
              "  </thead>\n",
              "  <tbody>\n",
              "    <tr>\n",
              "      <th>0</th>\n",
              "      <td>it was hot sizzling even at eight oclock  vero...</td>\n",
              "      <td>Act 1</td>\n",
              "      <td>Scene 1</td>\n",
              "    </tr>\n",
              "    <tr>\n",
              "      <th>1</th>\n",
              "      <td>no capulet told his visitor its six of one and...</td>\n",
              "      <td>Act 1</td>\n",
              "      <td>Scene 2</td>\n",
              "    </tr>\n",
              "    <tr>\n",
              "      <th>2</th>\n",
              "      <td>lady capulet came into the sitting room where ...</td>\n",
              "      <td>Act 1</td>\n",
              "      <td>Scene 3</td>\n",
              "    </tr>\n",
              "    <tr>\n",
              "      <th>3</th>\n",
              "      <td>are we going to make some excuse for coming wi...</td>\n",
              "      <td>Act 1</td>\n",
              "      <td>Scene 4</td>\n",
              "    </tr>\n",
              "    <tr>\n",
              "      <th>4</th>\n",
              "      <td>romeo couldnt bear to leave the house where he...</td>\n",
              "      <td>Act 2</td>\n",
              "      <td>Scene 1</td>\n",
              "    </tr>\n",
              "    <tr>\n",
              "      <th>5</th>\n",
              "      <td>romeo sat up the moon was huge it cast a silve...</td>\n",
              "      <td>Act 2</td>\n",
              "      <td>Scene 2</td>\n",
              "    </tr>\n",
              "    <tr>\n",
              "      <th>6</th>\n",
              "      <td>friar lawrence was up early the clouds in the ...</td>\n",
              "      <td>Act 2</td>\n",
              "      <td>Scene 3</td>\n",
              "    </tr>\n",
              "    <tr>\n",
              "      <th>7</th>\n",
              "      <td>where the devil could romeo be  mercutio and b...</td>\n",
              "      <td>Act 2</td>\n",
              "      <td>Scene 4</td>\n",
              "    </tr>\n",
              "    <tr>\n",
              "      <th>8</th>\n",
              "      <td>juliet could see by the way the sun hung over ...</td>\n",
              "      <td>Act 2</td>\n",
              "      <td>Scene 5</td>\n",
              "    </tr>\n",
              "    <tr>\n",
              "      <th>9</th>\n",
              "      <td>it was cool in the chapel romeo watched heat w...</td>\n",
              "      <td>Act 2</td>\n",
              "      <td>Scene 6</td>\n",
              "    </tr>\n",
              "    <tr>\n",
              "      <th>10</th>\n",
              "      <td>it was hot the only movement came from a lizar...</td>\n",
              "      <td>Act 3</td>\n",
              "      <td>Scene 1</td>\n",
              "    </tr>\n",
              "    <tr>\n",
              "      <th>11</th>\n",
              "      <td>juliet was impatient for the night to come it ...</td>\n",
              "      <td>Act 3</td>\n",
              "      <td>Scene 2</td>\n",
              "    </tr>\n",
              "    <tr>\n",
              "      <th>12</th>\n",
              "      <td>romeo come out of there come out friar lawrenc...</td>\n",
              "      <td>Act 3</td>\n",
              "      <td>Scene 3</td>\n",
              "    </tr>\n",
              "    <tr>\n",
              "      <th>13</th>\n",
              "      <td>lady capulet watched the two men her husband s...</td>\n",
              "      <td>Act 3</td>\n",
              "      <td>Scene 4</td>\n",
              "    </tr>\n",
              "    <tr>\n",
              "      <th>14</th>\n",
              "      <td>youre not going said juliet its not morning ye...</td>\n",
              "      <td>Act 3</td>\n",
              "      <td>Scene 5</td>\n",
              "    </tr>\n",
              "    <tr>\n",
              "      <th>15</th>\n",
              "      <td>thursday said friar lawrence thats short notic...</td>\n",
              "      <td>Act 4</td>\n",
              "      <td>Scene 1</td>\n",
              "    </tr>\n",
              "    <tr>\n",
              "      <th>16</th>\n",
              "      <td>capulet was doing what he enjoyed most he gave...</td>\n",
              "      <td>Act 4</td>\n",
              "      <td>Scene 2</td>\n",
              "    </tr>\n",
              "    <tr>\n",
              "      <th>17</th>\n",
              "      <td>juliet didnt argue with the nurses choice of c...</td>\n",
              "      <td>Act 4</td>\n",
              "      <td>Scene 3</td>\n",
              "    </tr>\n",
              "    <tr>\n",
              "      <th>18</th>\n",
              "      <td>mistress wake up juliet the nurse stood in the...</td>\n",
              "      <td>Act 4</td>\n",
              "      <td>Scene 5</td>\n",
              "    </tr>\n",
              "    <tr>\n",
              "      <th>19</th>\n",
              "      <td>romeo had been in a good mood all morning hed ...</td>\n",
              "      <td>Act 5</td>\n",
              "      <td>Scene 1</td>\n",
              "    </tr>\n",
              "    <tr>\n",
              "      <th>20</th>\n",
              "      <td>friar lawrence was humming it was all working ...</td>\n",
              "      <td>Act 5</td>\n",
              "      <td>Scene 2</td>\n",
              "    </tr>\n",
              "    <tr>\n",
              "      <th>21</th>\n",
              "      <td>paris approached the churchyard his page walki...</td>\n",
              "      <td>Act 5</td>\n",
              "      <td>Scene 3</td>\n",
              "    </tr>\n",
              "  </tbody>\n",
              "</table>\n",
              "</div>"
            ],
            "text/plain": [
              "                                             contents    act    scene\n",
              "0   it was hot sizzling even at eight oclock  vero...  Act 1  Scene 1\n",
              "1   no capulet told his visitor its six of one and...  Act 1  Scene 2\n",
              "2   lady capulet came into the sitting room where ...  Act 1  Scene 3\n",
              "3   are we going to make some excuse for coming wi...  Act 1  Scene 4\n",
              "4   romeo couldnt bear to leave the house where he...  Act 2  Scene 1\n",
              "5   romeo sat up the moon was huge it cast a silve...  Act 2  Scene 2\n",
              "6   friar lawrence was up early the clouds in the ...  Act 2  Scene 3\n",
              "7   where the devil could romeo be  mercutio and b...  Act 2  Scene 4\n",
              "8   juliet could see by the way the sun hung over ...  Act 2  Scene 5\n",
              "9   it was cool in the chapel romeo watched heat w...  Act 2  Scene 6\n",
              "10  it was hot the only movement came from a lizar...  Act 3  Scene 1\n",
              "11  juliet was impatient for the night to come it ...  Act 3  Scene 2\n",
              "12  romeo come out of there come out friar lawrenc...  Act 3  Scene 3\n",
              "13  lady capulet watched the two men her husband s...  Act 3  Scene 4\n",
              "14  youre not going said juliet its not morning ye...  Act 3  Scene 5\n",
              "15  thursday said friar lawrence thats short notic...  Act 4  Scene 1\n",
              "16  capulet was doing what he enjoyed most he gave...  Act 4  Scene 2\n",
              "17  juliet didnt argue with the nurses choice of c...  Act 4  Scene 3\n",
              "18  mistress wake up juliet the nurse stood in the...  Act 4  Scene 5\n",
              "19  romeo had been in a good mood all morning hed ...  Act 5  Scene 1\n",
              "20  friar lawrence was humming it was all working ...  Act 5  Scene 2\n",
              "21  paris approached the churchyard his page walki...  Act 5  Scene 3"
            ]
          },
          "metadata": {
            "tags": []
          },
          "execution_count": 16
        }
      ]
    },
    {
      "cell_type": "code",
      "metadata": {
        "id": "mAQ8ndKKA3TM",
        "outputId": "0907ee44-883c-4585-f7a1-f8e4540c8e47"
      },
      "source": [
        "count = []\n",
        "num = 0\n",
        "for i in range(len(df)):\n",
        "    num += len(df.iloc[i,0])\n",
        "    count.append(len(df.iloc[i,0]))\n",
        "    print(df.iloc[i,1],',',df.iloc[i,2],':',len(df.iloc[i,0]))\n",
        "print('전체 글자수 : ' , num)\n",
        "print(count)\n",
        "print('100으로 나눈 글자수:' , num/100)"
      ],
      "execution_count": null,
      "outputs": [
        {
          "output_type": "stream",
          "text": [
            "Act 1 , Scene 1 : 14915\n",
            "Act 1 , Scene 2 : 4896\n",
            "Act 1 , Scene 3 : 4272\n",
            "Act 1 , Scene 4 : 2374\n",
            "Act 2 , Scene 1 : 2442\n",
            "Act 2 , Scene 2 : 8282\n",
            "Act 2 , Scene 3 : 3553\n",
            "Act 2 , Scene 4 : 7174\n",
            "Act 2 , Scene 5 : 4519\n",
            "Act 2 , Scene 6 : 1714\n",
            "Act 3 , Scene 1 : 16199\n",
            "Act 3 , Scene 2 : 5423\n",
            "Act 3 , Scene 3 : 7399\n",
            "Act 3 , Scene 4 : 1855\n",
            "Act 3 , Scene 5 : 10894\n",
            "Act 4 , Scene 1 : 5903\n",
            "Act 4 , Scene 2 : 2097\n",
            "Act 4 , Scene 3 : 3154\n",
            "Act 4 , Scene 5 : 4963\n",
            "Act 5 , Scene 1 : 3762\n",
            "Act 5 , Scene 2 : 1595\n",
            "Act 5 , Scene 3 : 13695\n",
            "전체 글자수 :  131080\n",
            "[14915, 4896, 4272, 2374, 2442, 8282, 3553, 7174, 4519, 1714, 16199, 5423, 7399, 1855, 10894, 5903, 2097, 3154, 4963, 3762, 1595, 13695]\n",
            "100으로 나눈 글자수: 1310.8\n"
          ],
          "name": "stdout"
        }
      ]
    },
    {
      "cell_type": "markdown",
      "metadata": {
        "id": "OnIjsi2lA3TM"
      },
      "source": [
        "### 글자수 시각화"
      ]
    },
    {
      "cell_type": "code",
      "metadata": {
        "id": "MYHh-gDYA3TN",
        "outputId": "c1d62297-f060-431f-deb8-2ef477c68eaa"
      },
      "source": [
        "import matplotlib.pyplot as plt\n",
        "\n",
        "x = np.arange(22)\n",
        "actscene = df_original['actscene']\n",
        "values = [100, 400, 900]\n",
        "\n",
        "plt.bar(x, count)\n",
        "plt.xticks(x, actscene, rotation=45)\n",
        "plt.show()"
      ],
      "execution_count": null,
      "outputs": [
        {
          "output_type": "display_data",
          "data": {
            "image/png": "[encoded data removed]",
            "text/plain": [
              "<Figure size 432x288 with 1 Axes>"
            ]
          },
          "metadata": {
            "tags": [],
            "needs_background": "light"
          }
        }
      ]
    },
    {
      "cell_type": "markdown",
      "metadata": {
        "id": "a3AZcdHGA3TN"
      },
      "source": [
        "## 텍스트 102개로 분할\n",
        "* 글자가 1000~1200개 정도 되도록 분할. 나눈후 남는 글자는 마지막 텍스트에 들어가도록 조정"
      ]
    },
    {
      "cell_type": "code",
      "metadata": {
        "id": "ieURdw-NA3TO",
        "outputId": "3cfad8d5-e359-47fb-dfaf-22383af54294"
      },
      "source": [
        "text = []\n",
        "num_list=[]\n",
        "k = 0\n",
        "for i in range(len(df)):\n",
        "    divide = round(len(df.iloc[i,0])/1200)\n",
        "    seq=df.iloc[i,0]\n",
        "    length=round(len(df.iloc[i,0])/divide)\n",
        "    t = [''.join(x) for x in zip(*[list(seq[z::length]) for z in range(length)])]\n",
        "    t[-1] = t[-1]+df.iloc[i,0].split(t[-1])[-1]\n",
        "    text.append(t)\n",
        "    num_list.append(len(text[i]))\n",
        "    k += len(text[i])\n",
        "print('총 데이터 수 :' ,k)\n"
      ],
      "execution_count": null,
      "outputs": [
        {
          "output_type": "stream",
          "text": [
            "총 데이터 수 : 102\n"
          ],
          "name": "stdout"
        }
      ]
    },
    {
      "cell_type": "code",
      "metadata": {
        "id": "_qm3vrYBA3TP"
      },
      "source": [
        "df1 = pd.DataFrame(index=range(0,102), columns=['text', 'act','scene'])\n",
        "text_list = [r for t in text for r in t]\n",
        "df1['text'] = text_list\n",
        "\n",
        "act_list = []\n",
        "scene_list = []\n",
        "for i in range(len(num_list)):\n",
        "    for r in range(num_list[i]):\n",
        "        act_list.append(df.iloc[i,1])\n",
        "        scene_list.append(df.iloc[i,2])\n",
        "\n",
        "df1['act'] = act_list\n",
        "df1['scene'] = scene_list\n",
        "\n",
        "df1['actscene'] = np.arange(len(df1))\n",
        "for i in range(len(df1)):\n",
        "    df1.iloc[i,3] = df1.iloc[i,1]+df1.iloc[i,2]"
      ],
      "execution_count": null,
      "outputs": []
    },
    {
      "cell_type": "code",
      "metadata": {
        "id": "4W5QU82UA3TP",
        "outputId": "b7de8163-24af-452e-aad8-fb9e1a553d99"
      },
      "source": [
        "df1.head()"
      ],
      "execution_count": null,
      "outputs": [
        {
          "output_type": "execute_result",
          "data": {
            "text/html": [
              "<div>\n",
              "<style scoped>\n",
              "    .dataframe tbody tr th:only-of-type {\n",
              "        vertical-align: middle;\n",
              "    }\n",
              "\n",
              "    .dataframe tbody tr th {\n",
              "        vertical-align: top;\n",
              "    }\n",
              "\n",
              "    .dataframe thead th {\n",
              "        text-align: right;\n",
              "    }\n",
              "</style>\n",
              "<table border=\"1\" class=\"dataframe\">\n",
              "  <thead>\n",
              "    <tr style=\"text-align: right;\">\n",
              "      <th></th>\n",
              "      <th>text</th>\n",
              "      <th>act</th>\n",
              "      <th>scene</th>\n",
              "      <th>actscene</th>\n",
              "    </tr>\n",
              "  </thead>\n",
              "  <tbody>\n",
              "    <tr>\n",
              "      <th>0</th>\n",
              "      <td>it was hot sizzling even at eight oclock  vero...</td>\n",
              "      <td>Act 1</td>\n",
              "      <td>Scene 1</td>\n",
              "      <td>Act 1Scene 1</td>\n",
              "    </tr>\n",
              "    <tr>\n",
              "      <th>1</th>\n",
              "      <td>winking  i know thats your level said gregory ...</td>\n",
              "      <td>Act 1</td>\n",
              "      <td>Scene 1</td>\n",
              "      <td>Act 1Scene 1</td>\n",
              "    </tr>\n",
              "    <tr>\n",
              "      <th>2</th>\n",
              "      <td>ague servants stopped one of them a rather sup...</td>\n",
              "      <td>Act 1</td>\n",
              "      <td>Scene 1</td>\n",
              "      <td>Act 1Scene 1</td>\n",
              "    </tr>\n",
              "    <tr>\n",
              "      <th>3</th>\n",
              "      <td>pson seeing that the montague men were about t...</td>\n",
              "      <td>Act 1</td>\n",
              "      <td>Scene 1</td>\n",
              "      <td>Act 1Scene 1</td>\n",
              "    </tr>\n",
              "    <tr>\n",
              "      <th>4</th>\n",
              "      <td>theres something i have to tell you he said my...</td>\n",
              "      <td>Act 1</td>\n",
              "      <td>Scene 1</td>\n",
              "      <td>Act 1Scene 1</td>\n",
              "    </tr>\n",
              "  </tbody>\n",
              "</table>\n",
              "</div>"
            ],
            "text/plain": [
              "                                                text    act    scene  \\\n",
              "0  it was hot sizzling even at eight oclock  vero...  Act 1  Scene 1   \n",
              "1  winking  i know thats your level said gregory ...  Act 1  Scene 1   \n",
              "2  ague servants stopped one of them a rather sup...  Act 1  Scene 1   \n",
              "3  pson seeing that the montague men were about t...  Act 1  Scene 1   \n",
              "4  theres something i have to tell you he said my...  Act 1  Scene 1   \n",
              "\n",
              "       actscene  \n",
              "0  Act 1Scene 1  \n",
              "1  Act 1Scene 1  \n",
              "2  Act 1Scene 1  \n",
              "3  Act 1Scene 1  \n",
              "4  Act 1Scene 1  "
            ]
          },
          "metadata": {
            "tags": []
          },
          "execution_count": 26
        }
      ]
    },
    {
      "cell_type": "code",
      "metadata": {
        "id": "NiWoXteaA3TQ",
        "outputId": "c7c8fcbb-be07-49c1-fca6-c4c18f05aec8"
      },
      "source": [
        "df1.tail()"
      ],
      "execution_count": null,
      "outputs": [
        {
          "output_type": "execute_result",
          "data": {
            "text/html": [
              "<div>\n",
              "<style scoped>\n",
              "    .dataframe tbody tr th:only-of-type {\n",
              "        vertical-align: middle;\n",
              "    }\n",
              "\n",
              "    .dataframe tbody tr th {\n",
              "        vertical-align: top;\n",
              "    }\n",
              "\n",
              "    .dataframe thead th {\n",
              "        text-align: right;\n",
              "    }\n",
              "</style>\n",
              "<table border=\"1\" class=\"dataframe\">\n",
              "  <thead>\n",
              "    <tr style=\"text-align: right;\">\n",
              "      <th></th>\n",
              "      <th>text</th>\n",
              "      <th>act</th>\n",
              "      <th>scene</th>\n",
              "      <th>actscene</th>\n",
              "    </tr>\n",
              "  </thead>\n",
              "  <tbody>\n",
              "    <tr>\n",
              "      <th>97</th>\n",
              "      <td>ar friar she said where is my husband i rememb...</td>\n",
              "      <td>Act 5</td>\n",
              "      <td>Scene 3</td>\n",
              "      <td>Act 5Scene 3</td>\n",
              "    </tr>\n",
              "    <tr>\n",
              "      <th>98</th>\n",
              "      <td>here said juliet i must hurry oh thank god hes...</td>\n",
              "      <td>Act 5</td>\n",
              "      <td>Scene 3</td>\n",
              "      <td>Act 5Scene 3</td>\n",
              "    </tr>\n",
              "    <tr>\n",
              "      <th>99</th>\n",
              "      <td>ocking gently and moaning  montague arrived at...</td>\n",
              "      <td>Act 5</td>\n",
              "      <td>Scene 3</td>\n",
              "      <td>Act 5Scene 3</td>\n",
              "    </tr>\n",
              "    <tr>\n",
              "      <th>100</th>\n",
              "      <td>the prince wasnt inclined to judge him there ...</td>\n",
              "      <td>Act 5</td>\n",
              "      <td>Scene 3</td>\n",
              "      <td>Act 5Scene 3</td>\n",
              "    </tr>\n",
              "    <tr>\n",
              "      <th>101</th>\n",
              "      <td>lost some of my own family everyones been puni...</td>\n",
              "      <td>Act 5</td>\n",
              "      <td>Scene 3</td>\n",
              "      <td>Act 5Scene 3</td>\n",
              "    </tr>\n",
              "  </tbody>\n",
              "</table>\n",
              "</div>"
            ],
            "text/plain": [
              "                                                  text    act    scene  \\\n",
              "97   ar friar she said where is my husband i rememb...  Act 5  Scene 3   \n",
              "98   here said juliet i must hurry oh thank god hes...  Act 5  Scene 3   \n",
              "99   ocking gently and moaning  montague arrived at...  Act 5  Scene 3   \n",
              "100   the prince wasnt inclined to judge him there ...  Act 5  Scene 3   \n",
              "101  lost some of my own family everyones been puni...  Act 5  Scene 3   \n",
              "\n",
              "         actscene  \n",
              "97   Act 5Scene 3  \n",
              "98   Act 5Scene 3  \n",
              "99   Act 5Scene 3  \n",
              "100  Act 5Scene 3  \n",
              "101  Act 5Scene 3  "
            ]
          },
          "metadata": {
            "tags": []
          },
          "execution_count": 27
        }
      ]
    },
    {
      "cell_type": "code",
      "metadata": {
        "id": "a4Cv0N-6A3TQ"
      },
      "source": [
        "#df1.to_excel('data/train.xlsx',index=False)"
      ],
      "execution_count": null,
      "outputs": []
    },
    {
      "cell_type": "markdown",
      "metadata": {
        "id": "ym_wxb22A3TQ"
      },
      "source": [
        "## 완성된 train_data 글자수 히스토그램"
      ]
    },
    {
      "cell_type": "code",
      "metadata": {
        "id": "K8oLEwPTA3TR",
        "outputId": "97086cc1-d7c0-4a24-a004-ee3ece453457"
      },
      "source": [
        "\n",
        "count_list = [len(r) for r in df1['text']]\n",
        "x = np.arange(len(df1))\n",
        "actscene = df1['actscene']\n",
        "\n",
        "#plt.bar(x, count_list)\n",
        "#plt.xticks(x, actscene, rotation=45)\n",
        "plt.hist(count_list)\n",
        "plt.show()"
      ],
      "execution_count": null,
      "outputs": [
        {
          "output_type": "display_data",
          "data": {
            "image/png": "[encoded data removed]",
            "text/plain": [
              "<Figure size 432x288 with 1 Axes>"
            ]
          },
          "metadata": {
            "tags": [],
            "needs_background": "light"
          }
        }
      ]
    }
  ]
}