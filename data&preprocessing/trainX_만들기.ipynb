{
  "nbformat": 4,
  "nbformat_minor": 0,
  "metadata": {
    "kernelspec": {
      "display_name": "Python 3",
      "language": "python",
      "name": "python3"
    },
    "language_info": {
      "codemirror_mode": {
        "name": "ipython",
        "version": 3
      },
      "file_extension": ".py",
      "mimetype": "text/x-python",
      "name": "python",
      "nbconvert_exporter": "python",
      "pygments_lexer": "ipython3",
      "version": "3.7.6"
    },
    "colab": {
      "name": "trainX_만들기.ipynb",
      "provenance": [],
      "include_colab_link": true
    }
  },
  "cells": [
    {
      "cell_type": "markdown",
      "metadata": {
        "id": "view-in-github",
        "colab_type": "text"
      },
      "source": [
        "<a href=\"https://colab.research.google.com/github/hijyun/music-recommedation-system-based-on-text/blob/main/data%26preprocessing/trainX_%EB%A7%8C%EB%93%A4%EA%B8%B0.ipynb\" target=\"_parent\"><img src=\"https://colab.research.google.com/assets/colab-badge.svg\" alt=\"Open In Colab\"/></a>"
      ]
    },
    {
      "cell_type": "markdown",
      "metadata": {
        "id": "zsyOZZVp-75k"
      },
      "source": [
        "# 데이터 읽기"
      ]
    },
    {
      "cell_type": "code",
      "metadata": {
        "id": "o6DuAoXo-75q"
      },
      "source": [
        "import pandas as pd\n",
        "import nltk\n",
        "from nltk.stem.porter import PorterStemmer\n",
        "from nltk.tokenize import RegexpTokenizer\n",
        "from nltk.corpus import stopwords \n",
        "import re\n",
        "import numpy as np"
      ],
      "execution_count": null,
      "outputs": []
    },
    {
      "cell_type": "code",
      "metadata": {
        "id": "ZWadx_hS-75r"
      },
      "source": [
        "df_original = pd.read_csv('data/modern_romeo_and_juliet.csv',encoding='cp949')"
      ],
      "execution_count": null,
      "outputs": []
    },
    {
      "cell_type": "code",
      "metadata": {
        "id": "YkHnapmC-75s",
        "outputId": "f5347f02-e893-4fa5-c452-8d3808d41953"
      },
      "source": [
        "df_original.head()"
      ],
      "execution_count": null,
      "outputs": [
        {
          "output_type": "execute_result",
          "data": {
            "text/html": [
              "<div>\n",
              "<style scoped>\n",
              "    .dataframe tbody tr th:only-of-type {\n",
              "        vertical-align: middle;\n",
              "    }\n",
              "\n",
              "    .dataframe tbody tr th {\n",
              "        vertical-align: top;\n",
              "    }\n",
              "\n",
              "    .dataframe thead th {\n",
              "        text-align: right;\n",
              "    }\n",
              "</style>\n",
              "<table border=\"1\" class=\"dataframe\">\n",
              "  <thead>\n",
              "    <tr style=\"text-align: right;\">\n",
              "      <th></th>\n",
              "      <th>actscene</th>\n",
              "      <th>contents</th>\n",
              "    </tr>\n",
              "  </thead>\n",
              "  <tbody>\n",
              "    <tr>\n",
              "      <th>0</th>\n",
              "      <td>Act 1, Scene 1</td>\n",
              "      <td>It was hot. Sizzling. Even at eight o’clock.\\n...</td>\n",
              "    </tr>\n",
              "    <tr>\n",
              "      <th>1</th>\n",
              "      <td>Act 1, Scene 2</td>\n",
              "      <td>‘No,’ Capulet told his visitor. ‘It’s six of o...</td>\n",
              "    </tr>\n",
              "    <tr>\n",
              "      <th>2</th>\n",
              "      <td>Act 1, Scene 3</td>\n",
              "      <td>Lady Capulet came into the sitting room where ...</td>\n",
              "    </tr>\n",
              "    <tr>\n",
              "      <th>3</th>\n",
              "      <td>Act 1, Scene 4</td>\n",
              "      <td>‘Are we going to make some excuse for coming w...</td>\n",
              "    </tr>\n",
              "    <tr>\n",
              "      <th>4</th>\n",
              "      <td>Act 2, Scene 1</td>\n",
              "      <td>Romeo couldn’t bear to leave the house where h...</td>\n",
              "    </tr>\n",
              "  </tbody>\n",
              "</table>\n",
              "</div>"
            ],
            "text/plain": [
              "         actscene                                           contents\n",
              "0  Act 1, Scene 1  It was hot. Sizzling. Even at eight o’clock.\\n...\n",
              "1  Act 1, Scene 2  ‘No,’ Capulet told his visitor. ‘It’s six of o...\n",
              "2  Act 1, Scene 3  Lady Capulet came into the sitting room where ...\n",
              "3  Act 1, Scene 4  ‘Are we going to make some excuse for coming w...\n",
              "4  Act 2, Scene 1  Romeo couldn’t bear to leave the house where h..."
            ]
          },
          "metadata": {
            "tags": []
          },
          "execution_count": 3
        }
      ]
    },
    {
      "cell_type": "code",
      "metadata": {
        "id": "z02V3R9s-75t",
        "outputId": "f74ca4b0-0142-4eee-e457-502e178beca6"
      },
      "source": [
        "df_original.tail()"
      ],
      "execution_count": null,
      "outputs": [
        {
          "output_type": "execute_result",
          "data": {
            "text/html": [
              "<div>\n",
              "<style scoped>\n",
              "    .dataframe tbody tr th:only-of-type {\n",
              "        vertical-align: middle;\n",
              "    }\n",
              "\n",
              "    .dataframe tbody tr th {\n",
              "        vertical-align: top;\n",
              "    }\n",
              "\n",
              "    .dataframe thead th {\n",
              "        text-align: right;\n",
              "    }\n",
              "</style>\n",
              "<table border=\"1\" class=\"dataframe\">\n",
              "  <thead>\n",
              "    <tr style=\"text-align: right;\">\n",
              "      <th></th>\n",
              "      <th>actscene</th>\n",
              "      <th>contents</th>\n",
              "    </tr>\n",
              "  </thead>\n",
              "  <tbody>\n",
              "    <tr>\n",
              "      <th>17</th>\n",
              "      <td>Act 4, Scene 3</td>\n",
              "      <td>Juliet didn’t argue with the Nurse’s choice of...</td>\n",
              "    </tr>\n",
              "    <tr>\n",
              "      <th>18</th>\n",
              "      <td>Act 4, Scene 5</td>\n",
              "      <td>‘Mistress. Wake up… Juliet?’. The Nurse stood ...</td>\n",
              "    </tr>\n",
              "    <tr>\n",
              "      <th>19</th>\n",
              "      <td>Act 5, Scene 1</td>\n",
              "      <td>Romeo had been in a good mood all morning. He’...</td>\n",
              "    </tr>\n",
              "    <tr>\n",
              "      <th>20</th>\n",
              "      <td>Act 5, Scene 2</td>\n",
              "      <td>Friar Lawrence was humming. It was all working...</td>\n",
              "    </tr>\n",
              "    <tr>\n",
              "      <th>21</th>\n",
              "      <td>Act 5, Scene 3</td>\n",
              "      <td>Paris approached the churchyard, his page walk...</td>\n",
              "    </tr>\n",
              "  </tbody>\n",
              "</table>\n",
              "</div>"
            ],
            "text/plain": [
              "          actscene                                           contents\n",
              "17  Act 4, Scene 3  Juliet didn’t argue with the Nurse’s choice of...\n",
              "18  Act 4, Scene 5  ‘Mistress. Wake up… Juliet?’. The Nurse stood ...\n",
              "19  Act 5, Scene 1  Romeo had been in a good mood all morning. He’...\n",
              "20  Act 5, Scene 2  Friar Lawrence was humming. It was all working...\n",
              "21  Act 5, Scene 3  Paris approached the churchyard, his page walk..."
            ]
          },
          "metadata": {
            "tags": []
          },
          "execution_count": 4
        }
      ]
    },
    {
      "cell_type": "code",
      "metadata": {
        "id": "9NHzNqE--75t"
      },
      "source": [
        "df_original['act'] = np.arange(22)\n",
        "df_original['scene'] = np.arange(22)\n",
        "for i in range(len(df_original)):\n",
        "    df_original.iloc[i,2] = df_original.iloc[i,0][:5]\n",
        "    df_original.iloc[i,3] = df_original.iloc[i,0][7:]"
      ],
      "execution_count": null,
      "outputs": []
    },
    {
      "cell_type": "code",
      "metadata": {
        "id": "AYrAMB_m-75u",
        "outputId": "a1569df6-3bbe-4a74-e2b7-55d6b96e723e"
      },
      "source": [
        "df_original.iloc[0,1][:1000]"
      ],
      "execution_count": null,
      "outputs": [
        {
          "output_type": "execute_result",
          "data": {
            "text/plain": [
              "'It was hot. Sizzling. Even at eight o’clock.\\n\\nVerona was coming to life: people poured out of the houses and filled the streets while market traders set up their stalls in the grand piazza. It was a good patch, an excellent place to catch the business of those who lived and worked in the rich houses that lined Verona’s main square.\\n\\nThe Capulet mansion was one of the biggest ? filled with servants and humming with activity. It was an hour till breakfast and while the cooks sweated over the fires in the kitchen, conjuring mouthwatering aromas of baked breads and hams, the servingmen killed time as best they could.\\n\\nTwo of them ? hot, bored and restless ? stepped out into the bustle of the piazza and swaggered about among the bright colours, the animal smells and the din of traders’ voices, hoping to find some action.\\n\\n‘I can tell you, Gregory,’ said Sampson, ‘I’m ready for them. Just watch me. Let a Montague so much as put a foot in the piazza and you’ll see how quick I am.’\\n\\n‘Sure.’ Gr'"
            ]
          },
          "metadata": {
            "tags": []
          },
          "execution_count": 6
        }
      ]
    },
    {
      "cell_type": "code",
      "metadata": {
        "id": "lQEyFeof-75u"
      },
      "source": [
        "df = df_original.drop(['actscene'],axis=1)"
      ],
      "execution_count": null,
      "outputs": []
    },
    {
      "cell_type": "code",
      "metadata": {
        "id": "qrRYjS71-75v",
        "outputId": "358f8518-b222-40ee-f17c-1a649db17106"
      },
      "source": [
        "df.head()"
      ],
      "execution_count": null,
      "outputs": [
        {
          "output_type": "execute_result",
          "data": {
            "text/html": [
              "<div>\n",
              "<style scoped>\n",
              "    .dataframe tbody tr th:only-of-type {\n",
              "        vertical-align: middle;\n",
              "    }\n",
              "\n",
              "    .dataframe tbody tr th {\n",
              "        vertical-align: top;\n",
              "    }\n",
              "\n",
              "    .dataframe thead th {\n",
              "        text-align: right;\n",
              "    }\n",
              "</style>\n",
              "<table border=\"1\" class=\"dataframe\">\n",
              "  <thead>\n",
              "    <tr style=\"text-align: right;\">\n",
              "      <th></th>\n",
              "      <th>contents</th>\n",
              "      <th>act</th>\n",
              "      <th>scene</th>\n",
              "    </tr>\n",
              "  </thead>\n",
              "  <tbody>\n",
              "    <tr>\n",
              "      <th>0</th>\n",
              "      <td>It was hot. Sizzling. Even at eight o’clock.\\n...</td>\n",
              "      <td>Act 1</td>\n",
              "      <td>Scene 1</td>\n",
              "    </tr>\n",
              "    <tr>\n",
              "      <th>1</th>\n",
              "      <td>‘No,’ Capulet told his visitor. ‘It’s six of o...</td>\n",
              "      <td>Act 1</td>\n",
              "      <td>Scene 2</td>\n",
              "    </tr>\n",
              "    <tr>\n",
              "      <th>2</th>\n",
              "      <td>Lady Capulet came into the sitting room where ...</td>\n",
              "      <td>Act 1</td>\n",
              "      <td>Scene 3</td>\n",
              "    </tr>\n",
              "    <tr>\n",
              "      <th>3</th>\n",
              "      <td>‘Are we going to make some excuse for coming w...</td>\n",
              "      <td>Act 1</td>\n",
              "      <td>Scene 4</td>\n",
              "    </tr>\n",
              "    <tr>\n",
              "      <th>4</th>\n",
              "      <td>Romeo couldn’t bear to leave the house where h...</td>\n",
              "      <td>Act 2</td>\n",
              "      <td>Scene 1</td>\n",
              "    </tr>\n",
              "  </tbody>\n",
              "</table>\n",
              "</div>"
            ],
            "text/plain": [
              "                                            contents    act    scene\n",
              "0  It was hot. Sizzling. Even at eight o’clock.\\n...  Act 1  Scene 1\n",
              "1  ‘No,’ Capulet told his visitor. ‘It’s six of o...  Act 1  Scene 2\n",
              "2  Lady Capulet came into the sitting room where ...  Act 1  Scene 3\n",
              "3  ‘Are we going to make some excuse for coming w...  Act 1  Scene 4\n",
              "4  Romeo couldn’t bear to leave the house where h...  Act 2  Scene 1"
            ]
          },
          "metadata": {
            "tags": []
          },
          "execution_count": 8
        }
      ]
    },
    {
      "cell_type": "code",
      "metadata": {
        "id": "GAPG6F3d-75v"
      },
      "source": [
        "#df.to_excel('act_scene_split_romeo&juliet.xlsx')"
      ],
      "execution_count": null,
      "outputs": []
    },
    {
      "cell_type": "code",
      "metadata": {
        "id": "zQWTPwgC-75w",
        "outputId": "0cb4c818-d54c-4aa6-98ad-fbe780a18460"
      },
      "source": [
        "df.shape"
      ],
      "execution_count": null,
      "outputs": [
        {
          "output_type": "execute_result",
          "data": {
            "text/plain": [
              "(22, 3)"
            ]
          },
          "metadata": {
            "tags": []
          },
          "execution_count": 10
        }
      ]
    },
    {
      "cell_type": "code",
      "metadata": {
        "id": "L78GIE5V-75w",
        "outputId": "07eedab0-a795-43f0-b917-e91789f4c683"
      },
      "source": [
        "df.iloc[0,0][:1000]"
      ],
      "execution_count": null,
      "outputs": [
        {
          "output_type": "execute_result",
          "data": {
            "text/plain": [
              "'It was hot. Sizzling. Even at eight o’clock.\\n\\nVerona was coming to life: people poured out of the houses and filled the streets while market traders set up their stalls in the grand piazza. It was a good patch, an excellent place to catch the business of those who lived and worked in the rich houses that lined Verona’s main square.\\n\\nThe Capulet mansion was one of the biggest ? filled with servants and humming with activity. It was an hour till breakfast and while the cooks sweated over the fires in the kitchen, conjuring mouthwatering aromas of baked breads and hams, the servingmen killed time as best they could.\\n\\nTwo of them ? hot, bored and restless ? stepped out into the bustle of the piazza and swaggered about among the bright colours, the animal smells and the din of traders’ voices, hoping to find some action.\\n\\n‘I can tell you, Gregory,’ said Sampson, ‘I’m ready for them. Just watch me. Let a Montague so much as put a foot in the piazza and you’ll see how quick I am.’\\n\\n‘Sure.’ Gr'"
            ]
          },
          "metadata": {
            "tags": []
          },
          "execution_count": 11
        }
      ]
    },
    {
      "cell_type": "code",
      "metadata": {
        "id": "5xLJtS6r-75w",
        "outputId": "6fa7f24d-a4a5-4a1e-88c8-5f70d3b122e7"
      },
      "source": [
        "df[['act','scene']].value_counts()"
      ],
      "execution_count": null,
      "outputs": [
        {
          "output_type": "execute_result",
          "data": {
            "text/plain": [
              "act    scene  \n",
              "Act 5  Scene 3    1\n",
              "       Scene 2    1\n",
              "Act 1  Scene 2    1\n",
              "       Scene 3    1\n",
              "       Scene 4    1\n",
              "Act 2  Scene 1    1\n",
              "       Scene 2    1\n",
              "       Scene 3    1\n",
              "       Scene 4    1\n",
              "       Scene 5    1\n",
              "       Scene 6    1\n",
              "Act 3  Scene 1    1\n",
              "       Scene 2    1\n",
              "       Scene 3    1\n",
              "       Scene 4    1\n",
              "       Scene 5    1\n",
              "Act 4  Scene 1    1\n",
              "       Scene 2    1\n",
              "       Scene 3    1\n",
              "       Scene 5    1\n",
              "Act 5  Scene 1    1\n",
              "Act 1  Scene 1    1\n",
              "dtype: int64"
            ]
          },
          "metadata": {
            "tags": []
          },
          "execution_count": 12
        }
      ]
    },
    {
      "cell_type": "markdown",
      "metadata": {
        "id": "rt55WAD0-75x"
      },
      "source": [
        "# 전처리"
      ]
    },
    {
      "cell_type": "code",
      "metadata": {
        "id": "ROTYIC4V-75x"
      },
      "source": [
        "def cleansing(text):\n",
        "    pattern = '[0-9]' # 숫자제거\n",
        "    text = re.sub(pattern=pattern, repl='', string=text)\n",
        "    pattern = '\\n' \n",
        "    text = re.sub(pattern=pattern, repl=' ', string=text)\n",
        "    pattern = '[^\\w\\s]' # 특수기호제거\n",
        "    #pattern = '[-=+,#/\\?:^$.@*\\\"※~&%ㆍ!』\\\\‘|\\(\\)\\[\\]\\<\\>`\\'…》]'\n",
        "    text = re.sub(pattern=pattern, repl='', string=text)\n",
        "    text = text.lower() # 소문자로 바꾸기\n",
        "    return text   "
      ],
      "execution_count": null,
      "outputs": []
    },
    {
      "cell_type": "code",
      "metadata": {
        "id": "uEVkM2Rj-75y"
      },
      "source": [
        "for i in range(len(df)):\n",
        "    df.iloc[i,0] = df.iloc[i,0].split('.') # 문장 단위로 쪼개기\n",
        "    for t in df.iloc[i,0]: \n",
        "        df.iloc[i,0] = [cleansing(t) for t in df.iloc[i,0]] # 모든 열에 대해 cleansing함수 적용"
      ],
      "execution_count": null,
      "outputs": []
    },
    {
      "cell_type": "code",
      "metadata": {
        "id": "ix-g_XCr-75y",
        "outputId": "ab205e36-9bf4-4104-f7fd-03ab93b38025"
      },
      "source": [
        "df.iloc[0,0][:10] # 전처리 후 데이터 확인"
      ],
      "execution_count": null,
      "outputs": [
        {
          "output_type": "execute_result",
          "data": {
            "text/plain": [
              "['it was hot',\n",
              " ' sizzling',\n",
              " ' even at eight oclock',\n",
              " '  verona was coming to life people poured out of the houses and filled the streets while market traders set up their stalls in the grand piazza',\n",
              " ' it was a good patch an excellent place to catch the business of those who lived and worked in the rich houses that lined veronas main square',\n",
              " '  the capulet mansion was one of the biggest  filled with servants and humming with activity',\n",
              " ' it was an hour till breakfast and while the cooks sweated over the fires in the kitchen conjuring mouthwatering aromas of baked breads and hams the servingmen killed time as best they could',\n",
              " '  two of them  hot bored and restless  stepped out into the bustle of the piazza and swaggered about among the bright colours the animal smells and the din of traders voices hoping to find some action',\n",
              " '  i can tell you gregory said sampson im ready for them',\n",
              " ' just watch me']"
            ]
          },
          "metadata": {
            "tags": []
          },
          "execution_count": 15
        }
      ]
    },
    {
      "cell_type": "markdown",
      "metadata": {
        "id": "LA2c8Uso-75y"
      },
      "source": [
        "## 문장 수  세기"
      ]
    },
    {
      "cell_type": "code",
      "metadata": {
        "id": "dRJSJZKT-75z",
        "outputId": "ec2b4eb0-1613-4589-d806-10b3848eeaaf"
      },
      "source": [
        "count = []\n",
        "num = 0\n",
        "for i in range(len(df)):\n",
        "    num += len(df.iloc[i,0])\n",
        "    count.append(len(df.iloc[i,0]))\n",
        "    print(df.iloc[i,1],',',df.iloc[i,2],':',len(df.iloc[i,0]))\n",
        "print('전체 문장수 : ' , num)\n",
        "print(count)\n",
        "print('100으로 나눈 문장수:' , num/30)\n",
        "print('min:',min(count))"
      ],
      "execution_count": null,
      "outputs": [
        {
          "output_type": "stream",
          "text": [
            "Act 1 , Scene 1 : 313\n",
            "Act 1 , Scene 2 : 129\n",
            "Act 1 , Scene 3 : 101\n",
            "Act 1 , Scene 4 : 66\n",
            "Act 2 , Scene 1 : 65\n",
            "Act 2 , Scene 2 : 166\n",
            "Act 2 , Scene 3 : 71\n",
            "Act 2 , Scene 4 : 153\n",
            "Act 2 , Scene 5 : 79\n",
            "Act 2 , Scene 6 : 32\n",
            "Act 3 , Scene 1 : 306\n",
            "Act 3 , Scene 2 : 91\n",
            "Act 3 , Scene 3 : 141\n",
            "Act 3 , Scene 4 : 44\n",
            "Act 3 , Scene 5 : 204\n",
            "Act 4 , Scene 1 : 122\n",
            "Act 4 , Scene 2 : 47\n",
            "Act 4 , Scene 3 : 46\n",
            "Act 4 , Scene 5 : 120\n",
            "Act 5 , Scene 1 : 63\n",
            "Act 5 , Scene 2 : 30\n",
            "Act 5 , Scene 3 : 286\n",
            "전체 문장수 :  2675\n",
            "[313, 129, 101, 66, 65, 166, 71, 153, 79, 32, 306, 91, 141, 44, 204, 122, 47, 46, 120, 63, 30, 286]\n",
            "100으로 나눈 문장수: 89.16666666666667\n",
            "min: 30\n"
          ],
          "name": "stdout"
        }
      ]
    },
    {
      "cell_type": "markdown",
      "metadata": {
        "id": "xQgpnJ01-75z"
      },
      "source": [
        "### 문장수 시각화"
      ]
    },
    {
      "cell_type": "code",
      "metadata": {
        "id": "2h5aZ7Kg-75z",
        "outputId": "ab004cfb-1c8a-427e-a376-7472415a88aa"
      },
      "source": [
        "import matplotlib.pyplot as plt\n",
        "\n",
        "x = np.arange(22)\n",
        "actscene = df_original['actscene']\n",
        "values = [100, 400, 900]\n",
        "\n",
        "plt.bar(x, count)\n",
        "plt.xticks(x, actscene, rotation=45)\n",
        "plt.show()"
      ],
      "execution_count": null,
      "outputs": [
        {
          "output_type": "display_data",
          "data": {
            "image/png": "[encoded data removed]",
            "text/plain": [
              "<Figure size 432x288 with 1 Axes>"
            ]
          },
          "metadata": {
            "tags": [],
            "needs_background": "light"
          }
        }
      ]
    },
    {
      "cell_type": "markdown",
      "metadata": {
        "id": "I3UyxC-2-750"
      },
      "source": [
        "## 텍스트 102개로 분할\n",
        "* 글자가 1000~1200씩 되도록 분할. 나눈후 남는 글자는 마지막 텍스트에 들어가도록 조정"
      ]
    },
    {
      "cell_type": "code",
      "metadata": {
        "id": "w3NkDWl5-750",
        "outputId": "560198ba-2a35-4ac3-b7f7-febdb243704b"
      },
      "source": [
        "text_list = []\n",
        "act_list = []\n",
        "scene_list = []\n",
        "\n",
        "for  r in range(len(df)):\n",
        "    n = 30\n",
        "    result = [df.iloc[r,0][i * n:(i + 1) * n] for i in range((len(df.iloc[r,0]) + n - 1) // n )] \n",
        "    for t in result:\n",
        "        text_list.append(t)\n",
        "        act_list.append(df.iloc[r,1])\n",
        "        scene_list.append(df.iloc[r,2])\n",
        "print('총 데이터 수: ',len(text_list))"
      ],
      "execution_count": null,
      "outputs": [
        {
          "output_type": "stream",
          "text": [
            "총 데이터 수:  102\n"
          ],
          "name": "stdout"
        }
      ]
    },
    {
      "cell_type": "code",
      "metadata": {
        "id": "9f2RnO5D-750"
      },
      "source": [
        "df1 = pd.DataFrame(index=range(0,len(text_list)), columns=['text', 'act','scene'])\n",
        "\n",
        "df1['act'] = act_list\n",
        "df1['scene'] = scene_list\n",
        "\n",
        "df1['actscene'] = np.arange(len(df1))\n",
        "for i in range(len(df1)):\n",
        "    df1.iloc[i,0] = ''.join(text_list[i])\n",
        "    df1.iloc[i,3] = df1.iloc[i,1]+df1.iloc[i,2]"
      ],
      "execution_count": null,
      "outputs": []
    },
    {
      "cell_type": "code",
      "metadata": {
        "id": "MzgKYuvc-751",
        "outputId": "82719f54-397b-4cba-bebb-077817550539"
      },
      "source": [
        "df1.head()"
      ],
      "execution_count": null,
      "outputs": [
        {
          "output_type": "execute_result",
          "data": {
            "text/html": [
              "<div>\n",
              "<style scoped>\n",
              "    .dataframe tbody tr th:only-of-type {\n",
              "        vertical-align: middle;\n",
              "    }\n",
              "\n",
              "    .dataframe tbody tr th {\n",
              "        vertical-align: top;\n",
              "    }\n",
              "\n",
              "    .dataframe thead th {\n",
              "        text-align: right;\n",
              "    }\n",
              "</style>\n",
              "<table border=\"1\" class=\"dataframe\">\n",
              "  <thead>\n",
              "    <tr style=\"text-align: right;\">\n",
              "      <th></th>\n",
              "      <th>text</th>\n",
              "      <th>act</th>\n",
              "      <th>scene</th>\n",
              "      <th>actscene</th>\n",
              "    </tr>\n",
              "  </thead>\n",
              "  <tbody>\n",
              "    <tr>\n",
              "      <th>0</th>\n",
              "      <td>it was hot sizzling even at eight oclock  vero...</td>\n",
              "      <td>Act 1</td>\n",
              "      <td>Scene 1</td>\n",
              "      <td>Act 1Scene 1</td>\n",
              "    </tr>\n",
              "    <tr>\n",
              "      <th>1</th>\n",
              "      <td>ill be right behind you  thats what im afraid...</td>\n",
              "      <td>Act 1</td>\n",
              "      <td>Scene 1</td>\n",
              "      <td>Act 1Scene 1</td>\n",
              "    </tr>\n",
              "    <tr>\n",
              "      <th>2</th>\n",
              "      <td>im not biting my thumb at you  well said the ...</td>\n",
              "      <td>Act 1</td>\n",
              "      <td>Scene 1</td>\n",
              "      <td>Act 1Scene 1</td>\n",
              "    </tr>\n",
              "    <tr>\n",
              "      <th>3</th>\n",
              "      <td>look whispered balthasar theres montagues co...</td>\n",
              "      <td>Act 1</td>\n",
              "      <td>Scene 1</td>\n",
              "      <td>Act 1Scene 1</td>\n",
              "    </tr>\n",
              "    <tr>\n",
              "      <th>4</th>\n",
              "      <td>he shrugged the end of the young capulets swo...</td>\n",
              "      <td>Act 1</td>\n",
              "      <td>Scene 1</td>\n",
              "      <td>Act 1Scene 1</td>\n",
              "    </tr>\n",
              "  </tbody>\n",
              "</table>\n",
              "</div>"
            ],
            "text/plain": [
              "                                                text    act    scene  \\\n",
              "0  it was hot sizzling even at eight oclock  vero...  Act 1  Scene 1   \n",
              "1   ill be right behind you  thats what im afraid...  Act 1  Scene 1   \n",
              "2   im not biting my thumb at you  well said the ...  Act 1  Scene 1   \n",
              "3    look whispered balthasar theres montagues co...  Act 1  Scene 1   \n",
              "4   he shrugged the end of the young capulets swo...  Act 1  Scene 1   \n",
              "\n",
              "       actscene  \n",
              "0  Act 1Scene 1  \n",
              "1  Act 1Scene 1  \n",
              "2  Act 1Scene 1  \n",
              "3  Act 1Scene 1  \n",
              "4  Act 1Scene 1  "
            ]
          },
          "metadata": {
            "tags": []
          },
          "execution_count": 20
        }
      ]
    },
    {
      "cell_type": "code",
      "metadata": {
        "id": "HvQD9CMF-751",
        "outputId": "f3b82039-7bff-4ca5-b3f8-70964f859eff"
      },
      "source": [
        "df1.tail()"
      ],
      "execution_count": null,
      "outputs": [
        {
          "output_type": "execute_result",
          "data": {
            "text/html": [
              "<div>\n",
              "<style scoped>\n",
              "    .dataframe tbody tr th:only-of-type {\n",
              "        vertical-align: middle;\n",
              "    }\n",
              "\n",
              "    .dataframe tbody tr th {\n",
              "        vertical-align: top;\n",
              "    }\n",
              "\n",
              "    .dataframe thead th {\n",
              "        text-align: right;\n",
              "    }\n",
              "</style>\n",
              "<table border=\"1\" class=\"dataframe\">\n",
              "  <thead>\n",
              "    <tr style=\"text-align: right;\">\n",
              "      <th></th>\n",
              "      <th>text</th>\n",
              "      <th>act</th>\n",
              "      <th>scene</th>\n",
              "      <th>actscene</th>\n",
              "    </tr>\n",
              "  </thead>\n",
              "  <tbody>\n",
              "    <tr>\n",
              "      <th>97</th>\n",
              "      <td>someones coming said the friar come juliet co...</td>\n",
              "      <td>Act 5</td>\n",
              "      <td>Scene 3</td>\n",
              "      <td>Act 5Scene 3</td>\n",
              "    </tr>\n",
              "    <tr>\n",
              "      <th>98</th>\n",
              "      <td>which way  theyre here said juliet i must hur...</td>\n",
              "      <td>Act 5</td>\n",
              "      <td>Scene 3</td>\n",
              "      <td>Act 5Scene 3</td>\n",
              "    </tr>\n",
              "    <tr>\n",
              "      <th>99</th>\n",
              "      <td>oh look how hes bleeding said capulet  this w...</td>\n",
              "      <td>Act 5</td>\n",
              "      <td>Scene 3</td>\n",
              "      <td>Act 5Scene 3</td>\n",
              "    </tr>\n",
              "    <tr>\n",
              "      <th>100</th>\n",
              "      <td>he looked around they were all there montague...</td>\n",
              "      <td>Act 5</td>\n",
              "      <td>Scene 3</td>\n",
              "      <td>Act 5Scene 3</td>\n",
              "    </tr>\n",
              "    <tr>\n",
              "      <th>101</th>\n",
              "      <td>he took his old enemys hand and the two men e...</td>\n",
              "      <td>Act 5</td>\n",
              "      <td>Scene 3</td>\n",
              "      <td>Act 5Scene 3</td>\n",
              "    </tr>\n",
              "  </tbody>\n",
              "</table>\n",
              "</div>"
            ],
            "text/plain": [
              "                                                  text    act    scene  \\\n",
              "97    someones coming said the friar come juliet co...  Act 5  Scene 3   \n",
              "98    which way  theyre here said juliet i must hur...  Act 5  Scene 3   \n",
              "99    oh look how hes bleeding said capulet  this w...  Act 5  Scene 3   \n",
              "100   he looked around they were all there montague...  Act 5  Scene 3   \n",
              "101   he took his old enemys hand and the two men e...  Act 5  Scene 3   \n",
              "\n",
              "         actscene  \n",
              "97   Act 5Scene 3  \n",
              "98   Act 5Scene 3  \n",
              "99   Act 5Scene 3  \n",
              "100  Act 5Scene 3  \n",
              "101  Act 5Scene 3  "
            ]
          },
          "metadata": {
            "tags": []
          },
          "execution_count": 21
        }
      ]
    },
    {
      "cell_type": "code",
      "metadata": {
        "id": "9txWLP47-752"
      },
      "source": [
        "#df1.to_excel('data/train_X.xlsx',index=False)"
      ],
      "execution_count": null,
      "outputs": []
    },
    {
      "cell_type": "code",
      "metadata": {
        "id": "H1qOWtzm-752"
      },
      "source": [
        "#df1.to_csv('data/train_X.csv',index=False)"
      ],
      "execution_count": null,
      "outputs": []
    },
    {
      "cell_type": "markdown",
      "metadata": {
        "id": "3zd9qZ5E-753"
      },
      "source": [
        "## 완성된 train_data 글자수 히스토그램"
      ]
    },
    {
      "cell_type": "code",
      "metadata": {
        "id": "SOCdl0BK-753",
        "outputId": "5cbfe740-ffce-448a-dc73-3d0f0558e80f"
      },
      "source": [
        "\n",
        "count_list = [len(r) for r in df1['text']]\n",
        "x = np.arange(len(df1))\n",
        "actscene = df1['actscene']\n",
        "\n",
        "#plt.bar(x, count_list)\n",
        "#plt.xticks(x, actscene, rotation=45)\n",
        "plt.hist(count_list)\n",
        "plt.show()"
      ],
      "execution_count": null,
      "outputs": [
        {
          "output_type": "display_data",
          "data": {
            "image/png": "[encoded data removed]",
            "text/plain": [
              "<Figure size 432x288 with 1 Axes>"
            ]
          },
          "metadata": {
            "tags": [],
            "needs_background": "light"
          }
        }
      ]
    }
  ]
}